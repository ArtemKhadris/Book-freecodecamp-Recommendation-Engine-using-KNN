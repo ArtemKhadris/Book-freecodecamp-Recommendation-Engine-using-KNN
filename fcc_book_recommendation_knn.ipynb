{
  "nbformat": 4,
  "nbformat_minor": 0,
  "metadata": {
    "colab": {
      "provenance": [],
      "authorship_tag": "ABX9TyNWU9pZysqgmhckCpBv8YY6",
      "include_colab_link": true
    },
    "kernelspec": {
      "name": "python3",
      "display_name": "Python 3"
    },
    "language_info": {
      "name": "python"
    },
    "accelerator": "GPU",
    "gpuClass": "standard"
  },
  "cells": [
    {
      "cell_type": "markdown",
      "metadata": {
        "id": "view-in-github",
        "colab_type": "text"
      },
      "source": [
        "<a href=\"https://colab.research.google.com/github/ArtemKhadris/freecodecamp-Book-freecodecamp-Recommendation-Engine-using-KNN/blob/main/fcc_book_recommendation_knn.ipynb\" target=\"_parent\"><img src=\"https://colab.research.google.com/assets/colab-badge.svg\" alt=\"Open In Colab\"/></a>"
      ]
    },
    {
      "cell_type": "code",
      "execution_count": null,
      "metadata": {
        "id": "zkdrCMBLavIn"
      },
      "outputs": [],
      "source": [
        "# import libraries (you may add additional imports but you may not have to)\n",
        "import numpy as np\n",
        "import pandas as pd\n",
        "from scipy.sparse import csr_matrix\n",
        "from sklearn.neighbors import NearestNeighbors\n",
        "import matplotlib.pyplot as plt"
      ]
    },
    {
      "cell_type": "code",
      "source": [
        "# get data files\n",
        "!wget https://cdn.freecodecamp.org/project-data/books/book-crossings.zip\n",
        "\n",
        "!unzip book-crossings.zip\n",
        "\n",
        "books_filename = 'BX-Books.csv'\n",
        "ratings_filename = 'BX-Book-Ratings.csv'"
      ],
      "metadata": {
        "colab": {
          "base_uri": "https://localhost:8080/"
        },
        "id": "YhoNQ2NQa0FD",
        "outputId": "5d0a8801-9d6d-45ff-f4e7-ad110fea429c"
      },
      "execution_count": null,
      "outputs": [
        {
          "output_type": "stream",
          "name": "stdout",
          "text": [
            "--2023-04-14 20:55:52--  https://cdn.freecodecamp.org/project-data/books/book-crossings.zip\n",
            "Resolving cdn.freecodecamp.org (cdn.freecodecamp.org)... 172.67.70.149, 104.26.3.33, 104.26.2.33, ...\n",
            "Connecting to cdn.freecodecamp.org (cdn.freecodecamp.org)|172.67.70.149|:443... connected.\n",
            "HTTP request sent, awaiting response... 200 OK\n",
            "Length: 26085508 (25M) [application/zip]\n",
            "Saving to: ‘book-crossings.zip.2’\n",
            "\n",
            "\rbook-crossings.zip.   0%[                    ]       0  --.-KB/s               \rbook-crossings.zip. 100%[===================>]  24.88M  --.-KB/s    in 0.1s    \n",
            "\n",
            "2023-04-14 20:55:53 (230 MB/s) - ‘book-crossings.zip.2’ saved [26085508/26085508]\n",
            "\n",
            "Archive:  book-crossings.zip\n",
            "replace BX-Book-Ratings.csv? [y]es, [n]o, [A]ll, [N]one, [r]ename: n\n",
            "replace BX-Books.csv? [y]es, [n]o, [A]ll, [N]one, [r]ename: n\n",
            "replace BX-Users.csv? [y]es, [n]o, [A]ll, [N]one, [r]ename: n\n"
          ]
        }
      ]
    },
    {
      "cell_type": "code",
      "source": [
        "# import csv data into dataframes\n",
        "df_books = pd.read_csv(\n",
        "    books_filename,\n",
        "    encoding = \"ISO-8859-1\",\n",
        "    sep=\";\",\n",
        "    header=0,\n",
        "    names=['isbn', 'title', 'author'],\n",
        "    usecols=['isbn', 'title', 'author'],\n",
        "    dtype={'isbn': 'str', 'title': 'str', 'author': 'str'})\n",
        "\n",
        "df_ratings = pd.read_csv(\n",
        "    ratings_filename,\n",
        "    encoding = \"ISO-8859-1\",\n",
        "    sep=\";\",\n",
        "    header=0,\n",
        "    names=['user', 'isbn', 'rating'],\n",
        "    usecols=['user', 'isbn', 'rating'],\n",
        "    dtype={'user': 'int32', 'isbn': 'str', 'rating': 'float32'})"
      ],
      "metadata": {
        "id": "7KcJbBeXaz-0"
      },
      "execution_count": null,
      "outputs": []
    },
    {
      "cell_type": "code",
      "source": [
        "# Deleting books with more than 100 reviews and users with more than 200 reviews.\n",
        "user_unique= df_ratings[\"user\"].value_counts()\n",
        "isbn_unique= df_ratings[\"isbn\"].value_counts()\n",
        "user_unique = user_unique[user_unique >= 200].index\n",
        "isbn_unique = isbn_unique[isbn_unique >= 100].index\n",
        "df_ratings = df_ratings.loc[(df_ratings[\"user\"].isin(user_unique.values)) & (df_ratings[\"isbn\"].isin(isbn_unique.values))]\n",
        "\n",
        "fin_users = df_ratings[\"user\"].unique()"
      ],
      "metadata": {
        "id": "u8cOeGcqaz4U"
      },
      "execution_count": null,
      "outputs": []
    },
    {
      "cell_type": "code",
      "source": [
        "# Join the tables (inner join)\n",
        "books = pd.merge(left = df_ratings, right = df_books, how = \"inner\", on = \"isbn\")\n",
        "books.drop_duplicates(subset = [\"user\", \"title\"], inplace = True, ignore_index = True)\n",
        "\n",
        "books = pd.pivot(books, index = [\"isbn\", \"author\", \"title\"], columns = \"user\", values = \"rating\")\n",
        "books.reset_index(inplace = True)\n",
        "\n",
        "# Impute missing ratings with 0\n",
        "books[fin_users] = books[fin_users].fillna(0.0)"
      ],
      "metadata": {
        "id": "ZlmN1ET0cVAg"
      },
      "execution_count": null,
      "outputs": []
    },
    {
      "cell_type": "code",
      "source": [
        "# Init and fit model\n",
        "model = NearestNeighbors(n_neighbors = 6, metric = \"cosine\", algorithm = \"brute\", n_jobs = -1)\n",
        "model = model.fit(books[fin_users])"
      ],
      "metadata": {
        "id": "hiHOOuE-iq2T"
      },
      "execution_count": null,
      "outputs": []
    },
    {
      "cell_type": "code",
      "source": [
        "# function to return recommended books - this will be tested\n",
        "def get_recommends(book=\"\"):\n",
        "    if book not in books[\"title\"].to_list():\n",
        "        raise ValueError(\"Requested book not in database.\")\n",
        "    # Get the requested book's ratings\n",
        "    ratings = books.loc[books[\"title\"] == book, fin_users]\n",
        "    # Get the 6 nearest neighbors\n",
        "    distances, indexes = model.kneighbors(ratings, return_distance=True)\n",
        "    # Reversing the order.\n",
        "    distances = distances[0][-1:0:-1]\n",
        "    indexes = indexes[0][-1:0:-1]\n",
        "    recommended_books = [[books.loc[index, \"title\"], distance]for index, distance in zip(indexes, distances)]\n",
        "    recommended_books = [book] + [recommended_books]\n",
        "    return recommended_books"
      ],
      "metadata": {
        "id": "eaD9z4NJazxQ"
      },
      "execution_count": null,
      "outputs": []
    },
    {
      "cell_type": "code",
      "source": [
        "boks = get_recommends(\"Where the Heart Is (Oprah's Book Club (Paperback))\")\n",
        "print(boks)\n",
        "\n",
        "def test_book_recommendation():\n",
        "  test_pass = True\n",
        "  recommends = get_recommends(\"Where the Heart Is (Oprah's Book Club (Paperback))\")\n",
        "  if recommends[0] != \"Where the Heart Is (Oprah's Book Club (Paperback))\":\n",
        "    test_pass = False\n",
        "  recommended_books = [\"I'll Be Seeing You\", 'The Weight of Water', 'The Surgeon', 'I Know This Much Is True']\n",
        "  recommended_books_dist = [0.8, 0.77, 0.77, 0.77]\n",
        "  for i in range(2): \n",
        "    if recommends[1][i][0] not in recommended_books:\n",
        "      test_pass = False\n",
        "    if abs(recommends[1][i][1] - recommended_books_dist[i]) >= 0.05:\n",
        "      test_pass = False\n",
        "  if test_pass:\n",
        "    print(\"You passed the challenge! 🎉🎉🎉🎉🎉\")\n",
        "  else:\n",
        "    print(\"You haven't passed yet. Keep trying!\")\n",
        "\n",
        "test_book_recommendation()"
      ],
      "metadata": {
        "colab": {
          "base_uri": "https://localhost:8080/"
        },
        "id": "aHf61iGiazqP",
        "outputId": "ee95e15c-cd4c-4dd5-f942-4d02e5489853"
      },
      "execution_count": null,
      "outputs": [
        {
          "output_type": "stream",
          "name": "stdout",
          "text": [
            "[\"Where the Heart Is (Oprah's Book Club (Paperback))\", [[\"I'll Be Seeing You\", 0.8016211], ['The Weight of Water', 0.77085835], ['The Surgeon', 0.7699411], ['I Know This Much Is True', 0.7677075], ['The Lovely Bones: A Novel', 0.7234864]]]\n",
            "You passed the challenge! 🎉🎉🎉🎉🎉\n"
          ]
        }
      ]
    }
  ]
}